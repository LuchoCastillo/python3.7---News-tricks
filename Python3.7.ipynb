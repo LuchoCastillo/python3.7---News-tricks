{
 "cells": [
  {
   "cell_type": "markdown",
   "metadata": {},
   "source": [
    "# Python 3.7 - News & tricks\n",
    "\n",
    "------------\n",
    "\n",
    "## What's new in Python 3.6?\n",
    "\n",
    "\n",
    "### PEP 498: Formatted string literals (f-strings)\n",
    "\n",
    "Nuevo tipo de string, **se prefijan con f**. Ejemplo:"
   ]
  },
  {
   "cell_type": "code",
   "execution_count": 2,
   "metadata": {
    "scrolled": true
   },
   "outputs": [
    {
     "data": {
      "text/plain": [
       "True"
      ]
     },
     "execution_count": 2,
     "metadata": {},
     "output_type": "execute_result"
    }
   ],
   "source": [
    "f'Hola!' == 'Hola!'"
   ]
  },
  {
   "cell_type": "markdown",
   "metadata": {},
   "source": [
    "Se pueden incluir variables entre llaves:"
   ]
  },
  {
   "cell_type": "code",
   "execution_count": 2,
   "metadata": {
    "scrolled": false
   },
   "outputs": [
    {
     "name": "stdout",
     "output_type": "stream",
     "text": [
      "Using old format: 4/6/2019\n",
      "Using new style: 4/6/2019\n"
     ]
    }
   ],
   "source": [
    "day, month, year = 4, 6, 2019\n",
    "\n",
    "print('Using old format: {}/{}/{}'.format(day, month, year))\n",
    "\n",
    "print(f'Using new style: {day}/{month}/{year}')"
   ]
  },
  {
   "cell_type": "markdown",
   "metadata": {},
   "source": [
    "Lo que va entre `{}` es una expresión que se evalúa en tiempo de ejecución, así que podemos hacer cosas más complejas, como por ejemplo llamadas a funciones."
   ]
  },
  {
   "cell_type": "code",
   "execution_count": 7,
   "metadata": {},
   "outputs": [
    {
     "name": "stdout",
     "output_type": "stream",
     "text": [
      "Decrypted message: 'knowledge is power'\n"
     ]
    }
   ],
   "source": [
    "from googletrans import Translator\n",
    "\n",
    "msg = '量力是就识知'  # Crypted chinese message\n",
    "\n",
    "decrypt = lambda m: m[::-1]  # Just reverse a text\n",
    "\n",
    "print(f'Decrypted message: {Translator().translate(decrypt(msg)).text!r}')  # `!r` calls the __repr__() method"
   ]
  },
  {
   "cell_type": "markdown",
   "metadata": {},
   "source": [
    "También mantiene el lenguaje que usa `format()`\n",
    "\n",
    ">Más info: https://docs.python.org/3/library/string.html#formatspec"
   ]
  },
  {
   "cell_type": "code",
   "execution_count": 61,
   "metadata": {
    "scrolled": true
   },
   "outputs": [
    {
     "name": "stdout",
     "output_type": "stream",
     "text": [
      "   ex0        ex1        ex2        ex3    \n",
      "===========================================\n",
      "  1.046      1.435      3.204      2.341   \n",
      "  2.091      2.871      6.409      4.682   \n"
     ]
    }
   ],
   "source": [
    "times = [1.0457234, 1.4353234, 3.20439, 2.341]\n",
    "format_val = lambda val: f'{val:^{10}.{4}}'\n",
    "\n",
    "# Header\n",
    "header = ' '.join(f'{elem + str(i):^{10}}' for i, elem in enumerate(['ex'] * 4))\n",
    "print(header)\n",
    "print('=' * len(header))\n",
    "\n",
    "# {var:{width}.{precision}}     also < align left, ^ align center\n",
    "print(' '.join(format_val(t) for t in times))\n",
    "print(' '.join(format_val(t*2) for t in times))"
   ]
  },
  {
   "cell_type": "markdown",
   "metadata": {},
   "source": [
    "¿Cuándo usar `format()`, cuándo `+` y `%`? No hay una regla, pero Google nos tira una idea en su guía de estilo, basandose en la legibilidad del código.\n",
    "\n",
    ">Ver: http://google.github.io/styleguide/pyguide.html#310-strings"
   ]
  },
  {
   "cell_type": "markdown",
   "metadata": {},
   "source": [
    "### PEP 526: Syntax for variable annotations\n",
    "\n",
    "¿Se acuerdan de las anotaciones? Volvieron... en forma de fichas!\n",
    "\n",
    "![fichas](https://thumbs.gfycat.com/UnselfishQuarrelsomeGarpike-size_restricted.gif)\n",
    "\n",
    "Ahora se pueden anotar variables sin ningún efecto en las mismas."
   ]
  },
  {
   "cell_type": "code",
   "execution_count": 98,
   "metadata": {},
   "outputs": [
    {
     "name": "stdout",
     "output_type": "stream",
     "text": [
      "{'one': <class 'int'>, 'name': <class 'str'>}\n",
      "{'forma': <class 'str'>}\n"
     ]
    }
   ],
   "source": [
    "one: int = 1\n",
    "name: str\n",
    "\n",
    "print(__annotations__)\n",
    "\n",
    "class Alf:\n",
    "    forma: str = 'fichas'\n",
    "\n",
    "print(Alf.__annotations__)"
   ]
  },
  {
   "cell_type": "markdown",
   "metadata": {},
   "source": [
    "Para forzar el tipado estático, ver `mypy` y `pytype`."
   ]
  },
  {
   "cell_type": "markdown",
   "metadata": {},
   "source": [
    "### PEP 515: Underscores in Numeric Literals\n",
    "\n",
    "Se agrega la opción de usar `_` para leer mejor los números."
   ]
  },
  {
   "cell_type": "code",
   "execution_count": 79,
   "metadata": {},
   "outputs": [
    {
     "data": {
      "text/plain": [
       "'1000000 1_000_000'"
      ]
     },
     "execution_count": 79,
     "metadata": {},
     "output_type": "execute_result"
    }
   ],
   "source": [
    "m = 1_000_000\n",
    "\n",
    "f'{m} {m:_}'"
   ]
  },
  {
   "cell_type": "markdown",
   "metadata": {},
   "source": [
    "### PEP 525: Asynchronous Generators\n",
    "\n"
   ]
  },
  {
   "cell_type": "code",
   "execution_count": 10,
   "metadata": {},
   "outputs": [],
   "source": [
    "import asyncio\n",
    "\n",
    "async def ticker(delay, to):\n",
    "    \"\"\"Yield numbers from 0 to *to* every *delay* seconds.\"\"\"\n",
    "    for i in range(to):\n",
    "        yield i\n",
    "        await asyncio.sleep(delay)"
   ]
  },
  {
   "cell_type": "markdown",
   "metadata": {},
   "source": [
    "### PEP 530: Asynchronous Comprehensions\n"
   ]
  },
  {
   "cell_type": "code",
   "execution_count": 12,
   "metadata": {
    "scrolled": true
   },
   "outputs": [
    {
     "data": {
      "text/plain": [
       "[1, 3, 5, 7, 9]"
      ]
     },
     "execution_count": 12,
     "metadata": {},
     "output_type": "execute_result"
    }
   ],
   "source": [
    "result = [i async for i in ticker(0.1, 10) if i % 2]\n",
    "result"
   ]
  },
  {
   "cell_type": "markdown",
   "metadata": {},
   "source": [
    "### PEP 487: Simpler customization of class creation\n",
    "\n",
    "Nuevo método para inicializar subclases sin necesidad de usar una metaclase."
   ]
  },
  {
   "cell_type": "code",
   "execution_count": 8,
   "metadata": {},
   "outputs": [
    {
     "name": "stdout",
     "output_type": "stream",
     "text": [
      "[<class '__main__.Plugin1'>]\n",
      "[<class '__main__.Plugin1'>, <class '__main__.Plugin2'>]\n"
     ]
    }
   ],
   "source": [
    "class PluginBase:\n",
    "    subclasses = []\n",
    "\n",
    "    def __init_subclass__(cls, **kwargs):\n",
    "        super().__init_subclass__(**kwargs)\n",
    "        cls.subclasses.append(cls)\n",
    "        print(cls.subclasses)\n",
    "\n",
    "class Plugin1(PluginBase):\n",
    "    pass\n",
    "\n",
    "class Plugin2(PluginBase):\n",
    "    pass"
   ]
  },
  {
   "cell_type": "markdown",
   "metadata": {},
   "source": [
    "### PEP 520: Preserving Class Attribute Definition Order\n",
    "\n",
    "Se puede asumir que los atributos de una clase están ordenados como aparecen en el código, en el atributo `__dict__`."
   ]
  },
  {
   "cell_type": "code",
   "execution_count": 25,
   "metadata": {},
   "outputs": [
    {
     "name": "stdout",
     "output_type": "stream",
     "text": [
      "{'__module__': '__main__', 'a': 0, 'b': <function A.b at 0x7fd545c2dc80>, 'c': 0, '__dict__': <attribute '__dict__' of 'A' objects>, '__weakref__': <attribute '__weakref__' of 'A' objects>, '__doc__': None}\n"
     ]
    }
   ],
   "source": [
    "class A:\n",
    "    a = 0\n",
    "\n",
    "    def b(self):\n",
    "        pass\n",
    "\n",
    "    c = 0\n",
    "\n",
    "print(A.__dict__)"
   ]
  },
  {
   "cell_type": "markdown",
   "metadata": {},
   "source": [
    "### PEP 468: Preserving Keyword Argument Order\n",
    "\n",
    "`**kwargs` están ordenados de acuerdo a la inserción.\n"
   ]
  },
  {
   "cell_type": "code",
   "execution_count": 22,
   "metadata": {},
   "outputs": [
    {
     "name": "stdout",
     "output_type": "stream",
     "text": [
      "{'a': 0, 'b': 0, 'c': 0, 'd': 0}\n"
     ]
    }
   ],
   "source": [
    "def a(**kwargs):\n",
    "    print(kwargs)\n",
    "\n",
    "a(a=0, b=0, c=0, d=0)"
   ]
  },
  {
   "cell_type": "markdown",
   "metadata": {},
   "source": [
    "### PYTHONMALLOC environment variable\n",
    "\n"
   ]
  },
  {
   "cell_type": "markdown",
   "metadata": {},
   "source": [
    "### The Order of Dictionaries Is Guaranteed (insertion order)"
   ]
  },
  {
   "cell_type": "code",
   "execution_count": 25,
   "metadata": {},
   "outputs": [
    {
     "name": "stdout",
     "output_type": "stream",
     "text": [
      "{1: 0, 3: 0, 100: 0, -23: 0}\n"
     ]
    }
   ],
   "source": [
    "a = {1: 0, 3: 0, 100: 0, -23: 0}\n",
    "print(a)"
   ]
  },
  {
   "cell_type": "markdown",
   "metadata": {},
   "source": [
    ">Más info: https://docs.python.org/3/whatsnew/3.6.html"
   ]
  },
  {
   "cell_type": "markdown",
   "metadata": {},
   "source": [
    "\n",
    "------------------------------\n",
    "\n",
    "## What's new in Python 3.7?\n",
    "\n"
   ]
  },
  {
   "cell_type": "markdown",
   "metadata": {},
   "source": [
    "### PEP 563: Postponed Evaluation of Annotations\n",
    "\n",
    "Ahora se postpone la evaluación de anotaciones, lo que permite referencias a definiciones posteriores, por ejemplo:"
   ]
  },
  {
   "cell_type": "code",
   "execution_count": 18,
   "metadata": {},
   "outputs": [],
   "source": [
    "from __future__ import annotations\n",
    "\n",
    "class C:\n",
    "    @classmethod\n",
    "    def from_string(cls, source: str) -> C:\n",
    "        pass\n",
    "\n",
    "    def validate_b(self, obj: B) -> bool:\n",
    "        pass\n",
    "\n",
    "class B:\n",
    "    pass\n"
   ]
  },
  {
   "cell_type": "markdown",
   "metadata": {},
   "source": [
    "Esto rompe compatibilidad, por ende hay que activarlo con el import. Pasará a ser default en Python 4.0."
   ]
  },
  {
   "cell_type": "markdown",
   "metadata": {},
   "source": [
    "### PEP 553: Built-in `breakpoint()`\n",
    "\n",
    "Hay una nueva función built-in para debugear. El debugger que va a usar por defecto es `pdb`, pero esto es configurable desde la variable de entorno `PYTHONBREAKPOINT`.\n",
    "\n",
    "Ejemplo: `PYTHONBREAKPOINT=0` deshabilita esta funcionalidad, `PYTHONBREAKPOINT=ipdb.set_trace()` reemplaza por `ipdb`."
   ]
  },
  {
   "cell_type": "code",
   "execution_count": 20,
   "metadata": {},
   "outputs": [
    {
     "name": "stdout",
     "output_type": "stream",
     "text": [
      "--Call--\n",
      "> /usr/local/lib/python3.7/site-packages/IPython/core/displayhook.py(252)__call__()\n",
      "-> def __call__(self, result=None):\n",
      "(Pdb) c\n"
     ]
    }
   ],
   "source": [
    "breakpoint()"
   ]
  },
  {
   "cell_type": "markdown",
   "metadata": {},
   "source": [
    "### Dataclasses\n",
    "\n",
    "Nuevo módulo `dataclasses`.\n",
    "\n",
    "Describe sus atributos con anotaciones de clase. Su constructor tanto como `__repr__()`, `__eq__()`, y `__hash__()` se generan automáticamente."
   ]
  },
  {
   "cell_type": "code",
   "execution_count": 33,
   "metadata": {},
   "outputs": [
    {
     "name": "stdout",
     "output_type": "stream",
     "text": [
      "Country(name='Norway', population=5320045, coastline=58133)\n",
      "Country(name='United States', population=326625791, coastline=19924)\n",
      "10.927163210085629\n",
      "0.06099946957342386\n"
     ]
    }
   ],
   "source": [
    "from dataclasses import dataclass, field\n",
    "\n",
    "@dataclass(order=True)\n",
    "class Country:\n",
    "    name: str\n",
    "    population: int\n",
    "    area: float = field(repr=False, compare=False)\n",
    "    coastline: float = 0\n",
    "\n",
    "    def beach_per_person(self):\n",
    "        \"\"\"Meters of coastline per person\"\"\"\n",
    "        return (self.coastline * 1_000) / self.population\n",
    "\n",
    "norway = Country(\"Norway\", 5_320_045, 323_802, 58_133)\n",
    "usa = Country(\"United States\", 326_625_791, 9_833_517, 19_924)\n",
    "\n",
    "print(norway)\n",
    "print(usa)\n",
    "\n",
    "print(norway.beach_per_person())\n",
    "print(usa.beach_per_person())"
   ]
  },
  {
   "cell_type": "code",
   "execution_count": null,
   "metadata": {},
   "outputs": [],
   "source": []
  },
  {
   "cell_type": "markdown",
   "metadata": {},
   "source": [
    ">Más info: https://docs.python.org/3/whatsnew/3.7.html"
   ]
  },
  {
   "cell_type": "markdown",
   "metadata": {},
   "source": [
    "------------------\n",
    "\n",
    "## Python tricks\n",
    "\n",
    "### Merging two dicts in Python 3.5+\n",
    "\n",
    "Una manera copada de mergear diccionarios en python."
   ]
  },
  {
   "cell_type": "code",
   "execution_count": 29,
   "metadata": {},
   "outputs": [
    {
     "name": "stdout",
     "output_type": "stream",
     "text": [
      "{'a': 0, 'b': 1, 'c': 2, 'd': 3}\n"
     ]
    }
   ],
   "source": [
    "x = {'a': 0, 'b': 1}\n",
    "y = {'c': 2, 'd': 3}\n",
    "\n",
    "z = {**x, **y}\n",
    "\n",
    "print(z)"
   ]
  },
  {
   "cell_type": "markdown",
   "metadata": {},
   "source": [
    "### Usage of `any()` and `all()`"
   ]
  },
  {
   "cell_type": "code",
   "execution_count": 34,
   "metadata": {},
   "outputs": [
    {
     "name": "stdout",
     "output_type": "stream",
     "text": [
      "Alguno es true\n"
     ]
    }
   ],
   "source": [
    "x, y, z = 0, 1, 0\n",
    "\n",
    "# if x or y or z\n",
    "if any((x, y, z)):\n",
    "    print('Alguno es true')\n",
    "\n",
    "# if x and y and z\n",
    "if all((x, y, z)):\n",
    "    print('Todos son true')"
   ]
  },
  {
   "cell_type": "markdown",
   "metadata": {},
   "source": [
    "### How to sort a Python dict by value"
   ]
  },
  {
   "cell_type": "code",
   "execution_count": 40,
   "metadata": {},
   "outputs": [
    {
     "name": "stdout",
     "output_type": "stream",
     "text": [
      "[('d', 1), ('c', 2), ('b', 3), ('a', 4)]\n",
      "[('d', 1), ('c', 2), ('b', 3), ('a', 4)]\n"
     ]
    }
   ],
   "source": [
    "# How to sort a Python dict by value\n",
    "# (== get a representation sorted by value)\n",
    "\n",
    "xs = {'a': 4, 'b': 3, 'c': 2, 'd': 1}\n",
    "\n",
    "sorted_xs = sorted(xs.items(), key=lambda x: x[1])\n",
    "print(sorted_xs)\n",
    "\n",
    "# Or:\n",
    "import operator\n",
    "\n",
    "sorted_xs = sorted(xs.items(), key=operator.itemgetter(1))\n",
    "print(sorted_xs)"
   ]
  },
  {
   "cell_type": "markdown",
   "metadata": {},
   "source": [
    "### Python's namedtuples"
   ]
  },
  {
   "cell_type": "code",
   "execution_count": 42,
   "metadata": {},
   "outputs": [
    {
     "name": "stdout",
     "output_type": "stream",
     "text": [
      "red\n",
      "3812.4\n",
      "Car(color='red', mileage=3812.4)\n"
     ]
    },
    {
     "ename": "AttributeError",
     "evalue": "can't set attribute",
     "output_type": "error",
     "traceback": [
      "\u001b[0;31m---------------------------------------------------------------------------\u001b[0m",
      "\u001b[0;31mAttributeError\u001b[0m                            Traceback (most recent call last)",
      "\u001b[0;32m<ipython-input-42-a7f292e4c8c6>\u001b[0m in \u001b[0;36m<module>\u001b[0;34m\u001b[0m\n\u001b[1;32m     11\u001b[0m \u001b[0;34m\u001b[0m\u001b[0m\n\u001b[1;32m     12\u001b[0m \u001b[0;31m# Like tuples, namedtuples are immutable:\u001b[0m\u001b[0;34m\u001b[0m\u001b[0;34m\u001b[0m\u001b[0;34m\u001b[0m\u001b[0m\n\u001b[0;32m---> 13\u001b[0;31m \u001b[0mmy_car\u001b[0m\u001b[0;34m.\u001b[0m\u001b[0mcolor\u001b[0m \u001b[0;34m=\u001b[0m \u001b[0;34m'blue'\u001b[0m\u001b[0;34m\u001b[0m\u001b[0;34m\u001b[0m\u001b[0m\n\u001b[0m",
      "\u001b[0;31mAttributeError\u001b[0m: can't set attribute"
     ]
    }
   ],
   "source": [
    "from collections import namedtuple\n",
    "Car = namedtuple('Car', 'color mileage')\n",
    "\n",
    "# Our new \"Car\" class works as expected:\n",
    "my_car = Car('red', 3812.4)\n",
    "print(my_car.color)\n",
    "print(my_car.mileage)\n",
    "\n",
    "# We get a nice string repr for free:\n",
    "print(my_car)\n",
    "\n",
    "# Like tuples, namedtuples are immutable:\n",
    "my_car.color = 'blue'"
   ]
  },
  {
   "cell_type": "markdown",
   "metadata": {},
   "source": [
    "### Swapping two variables"
   ]
  },
  {
   "cell_type": "code",
   "execution_count": 44,
   "metadata": {},
   "outputs": [],
   "source": [
    "a = 111\n",
    "b = 555\n",
    "\n",
    "a, b = b, a"
   ]
  },
  {
   "cell_type": "markdown",
   "metadata": {},
   "source": [
    "### Data pretty printer"
   ]
  },
  {
   "cell_type": "code",
   "execution_count": 8,
   "metadata": {},
   "outputs": [
    {
     "name": "stdout",
     "output_type": "stream",
     "text": [
      "{'123456': {}, '402918': {...}, '504649': {...}, '527608': {...}}\n"
     ]
    }
   ],
   "source": [
    "from pprint import pprint\n",
    "\n",
    "bin_data = {\n",
    "    '402918': {\n",
    "        'brand': 'VISA',\n",
    "        'category': 'CLASSIC',\n",
    "        'geo': 'AR',\n",
    "        'organization': 'BANCO DE GALICIA Y BUENOS AIRES, S.A.',\n",
    "        'type': 'DEBIT',\n",
    "        'url_logos': ['static/bin/cards/banco-galicia.png', 'static/bin/cards/banco-galicia1.png']\n",
    "    },\n",
    "    '527608': {\n",
    "        'brand': 'MASTERCARD',\n",
    "        'category': 'BLACK',\n",
    "        'geo': 'AR',\n",
    "        'organization': 'BANCO MACRO, S.A.',\n",
    "        'type': 'DEBIT',\n",
    "        'url_logos': ['static/bin/cards/banco-macro.png']\n",
    "    },\n",
    "    '504649': {\n",
    "        'brand': 'MAESTRO',\n",
    "        'category': 'PERSONAL',\n",
    "        'geo': 'GR',\n",
    "        'organization': 'EUROBANK ERGASIAS, S.A.',\n",
    "        'type': 'DEBIT',\n",
    "    },\n",
    "    '123456': {}\n",
    "}\n",
    "\n",
    "#print(bin_data)\n",
    "pprint(bin_data, depth=1)"
   ]
  },
  {
   "cell_type": "markdown",
   "metadata": {},
   "source": [
    "### Dicts can be used to emulate switch/case statements"
   ]
  },
  {
   "cell_type": "code",
   "execution_count": 84,
   "metadata": {},
   "outputs": [
    {
     "name": "stdout",
     "output_type": "stream",
     "text": [
      "7\n",
      "None\n"
     ]
    }
   ],
   "source": [
    "def dispatch_dict(operator, x, y):\n",
    "    return {\n",
    "        'add': lambda: x + y,\n",
    "        'sub': lambda: x - y,\n",
    "        'mul': lambda: x * y,\n",
    "        'div': lambda: x / y,\n",
    "    }.get(operator, lambda: None)()\n",
    "\n",
    "print(dispatch_dict('add', 4, 3))\n",
    "print(dispatch_dict('-', 4, 3))"
   ]
  },
  {
   "cell_type": "markdown",
   "metadata": {},
   "source": [
    "### `+=` is faster"
   ]
  },
  {
   "cell_type": "code",
   "execution_count": 3,
   "metadata": {
    "scrolled": true
   },
   "outputs": [
    {
     "name": "stdout",
     "output_type": "stream",
     "text": [
      "0.18427745100052562\n",
      "0.009104434997425415\n"
     ]
    }
   ],
   "source": [
    "from timeit import timeit\n",
    "\n",
    "t1 = timeit(\"s1 = s1 + s2 + s3\", setup=\"s1 = ' ' * 100000; s2 = ' ' * 100000; s3 = ' ' * 100000\", number=100)\n",
    "t2 = timeit(\"s1 += s2 + s3\", setup=\"s1 = ' ' * 100000; s2 = ' ' * 100000; s3 = ' ' * 100000\", number=100)\n",
    "print(t1)\n",
    "print(t2)"
   ]
  },
  {
   "cell_type": "markdown",
   "metadata": {},
   "source": [
    "### Chaining Comparison Operators"
   ]
  },
  {
   "cell_type": "code",
   "execution_count": 34,
   "metadata": {
    "scrolled": false
   },
   "outputs": [
    {
     "name": "stdout",
     "output_type": "stream",
     "text": [
      "True\n",
      "False\n",
      "True\n",
      "True\n",
      "True\n"
     ]
    }
   ],
   "source": [
    "x = 5\n",
    "\n",
    "print(1 < x < 10)\n",
    "print(10 < x < 20)\n",
    "\n",
    "print(x < 10 < x*10 < 100)\n",
    "print(10 > x <= 9)\n",
    "print(5 == x > 4)"
   ]
  },
  {
   "cell_type": "markdown",
   "metadata": {},
   "source": [
    "### `enumerate()`"
   ]
  },
  {
   "cell_type": "code",
   "execution_count": 56,
   "metadata": {},
   "outputs": [
    {
     "name": "stdout",
     "output_type": "stream",
     "text": [
      "0 Lun\n",
      "1 Mar\n",
      "2 Mié\n",
      "3 Jue\n",
      "4 Vie\n",
      "5 Sab\n",
      "6 Dom\n"
     ]
    }
   ],
   "source": [
    "days = ['Lun', 'Mar', 'Mié', 'Jue', 'Vie', 'Sab', 'Dom']\n",
    "\n",
    "for index, day in enumerate(days):#, start=1):\n",
    "    print(index, day)"
   ]
  },
  {
   "cell_type": "markdown",
   "metadata": {},
   "source": [
    "## Refs\n",
    "\n",
    "Python 3.6\n",
    "\n",
    "* https://docs.python.org/3/whatsnew/3.6.html\n",
    "* https://www.python.org/dev/peps/pep-0498/\n",
    "* http://google.github.io/styleguide/pyguide.html#310-strings\n",
    "\n",
    "Python 3.7\n",
    "\n",
    "* https://docs.python.org/3/whatsnew/3.7.html\n",
    "* https://realpython.com/python37-new-features/\n",
    "\n",
    "Python tricks\n",
    "\n",
    "* https://realpython.com/\n",
    "* https://github.com/satwikkansal/wtfpython\n",
    "* https://stackoverflow.com/questions/101268/hidden-features-of-python"
   ]
  }
 ],
 "metadata": {
  "kernelspec": {
   "display_name": "Python 3",
   "language": "python",
   "name": "python3"
  },
  "language_info": {
   "codemirror_mode": {
    "name": "ipython",
    "version": 3
   },
   "file_extension": ".py",
   "mimetype": "text/x-python",
   "name": "python",
   "nbconvert_exporter": "python",
   "pygments_lexer": "ipython3",
   "version": "3.7.3"
  }
 },
 "nbformat": 4,
 "nbformat_minor": 2
}
